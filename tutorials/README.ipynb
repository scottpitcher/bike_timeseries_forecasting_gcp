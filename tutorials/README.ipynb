{
 "cells": [
  {
   "cell_type": "markdown",
   "metadata": {},
   "source": [
    "# Google Cloud AI Notebook Tutorials"
   ]
  },
  {
   "cell_type": "markdown",
   "metadata": {},
   "source": [
    " The `tutorials` subdirectory contains a series of tutorials to get started with ML on the Google Cloud Platform."
   ]
  },
  {
   "cell_type": "markdown",
   "metadata": {},
   "source": [
    "## BigQuery\n",
    "\n",
    "[BigQuery](https://cloud.google.com/bigquery/docs/) is a petabyte-scale analytics data warehouse that you can use to run SQL queries over vast amounts of data in near realtime. \n",
    "\n",
    "* [BigQuery basics.ipynb](../tutorials/bigquery/BigQuery%20basics.ipynb) shows you how to get started with the Google BigQuery API using the Python client library.\n",
    "* [BigQuery command-line tool.ipynb](../tutorials/bigquery/BigQuery%20command-line%20tool.ipynb) demonstrates the BigQuery command-line tool, which is installed as part of the Cloud SDK and can be used to interact with BigQuery.\n",
    "* [BigQuery query magic.ipynb](../tutorials/bigquery/BigQuery%20query%20magic.ipynb) demonstrates the `%%bigquery` cell magic, which runs a SQL query and returns the results as a pandas DataFrame.\n",
    "* [Getting started with BigQuery ML.ipynb](../tutorials/bigquery/Getting%20started%20with%20BigQuery%20ML.ipynb) shows how to create a model that predicts whether a website visitor will make a transaction.\n",
    "* [Visualizing BigQuery data in a Jupyter notebook.ipynb](../tutorials/bigquery/Visualizing%20BigQuery%20public%20data.ipynb) uses the BigQuery Python client library and pandas in a Jupyter notebook to visualize data in the BigQuery natality sample table."
   ]
  },
  {
   "cell_type": "markdown",
   "metadata": {},
   "source": [
    "## Cloud ML Engine\n",
    "\n",
    "* [Training and prediction with scikit-learn.ipynb](../tutorials/cloud-ml-engine/Training%20and%20prediction%20with%20scikit-learn.ipynb) demonstrates how to use Cloud Machine Learning Engine to train a simple classification model using scikit-learn, and then deploy the model to get predictions."
   ]
  },
  {
   "cell_type": "markdown",
   "metadata": {},
   "source": [
    "## Cloud Storage\n",
    "\n",
    "* [Cloud Storage client library.ipynb](../tutorials/storage/Cloud%20Storage%20client%20library.ipynb) shows how to get started with the [Cloud Storage Python client library](https://googleapis.github.io/google-cloud-python/latest/storage/index.html).\n",
    "* [Storage command-line tool.ipynb](../tutorials/storage/Storage%20command-line%20tool.ipynb) introduces several gsutil commands for interacting with Cloud Storage.\n"
   ]
  },
  {
   "cell_type": "markdown",
   "metadata": {},
   "source": [
    "## TensorFlow\n",
    "\n",
    "[TensorFlow](https://tensorflow.org) is an end-to-end open source platform for machine learning.\n",
    "\n",
    "### Eager execution\n",
    "[Eager execution](https://www.tensorflow.org/guide/eager) is an imperative programming environment that evaluates operations immediately, without building graphs.\n",
    "* [\\_style_transfer.ipynb](../tutorials/eager/_style_transfer.ipynb) shows how to use deep learning to compose images in the style of another image.\n",
    "* [automatic_differentiation.ipynb](../tutorials/eager/automatic_differentiation.ipynb) covers [automatic differentiation](https://en.wikipedia.org/wiki/Automatic_differentiation), a key technique for optimizing machine learning models.\n",
    "* [custom_layers.ipynb](../tutorials/eager/custom_layers.ipynb) demonstrates how to implement custom layers and compose them in a model.\n",
    "* [custom_training_walkthrough.ipynb](../tutorials/eager/custom_training_walkthrough.ipynb) uses machine learning to categorize Iris flowers by species.\n",
    "* [custom_training.ipynb](../tutorials/eager/custom_training.ipynb) uses TensorFlow primitives to do some simple machine learning.\n",
    "* [eager_basics.ipynb](../tutorials/eager/eager_basics.ipynb) is an introductory tutorial for using TensorFlow with eager execution.\n",
    "\n",
    "### Estimators\n",
    "[Estimators](https://www.tensorflow.org/guide/estimators) are a high-level TensorFlow API that greatly simplifies machine learning programming.\n",
    "* [cnn.ipynb](../tutorials/estimators/cnn.ipynb) shows how to construct, train, and evaluate a convolutional neural network.\n",
    "* [linear.ipynb](../tutorials/estimators/cnn.ipynb) shows how to construct, train, and evaluate a logistic regression model.\n",
    "\n",
    "### Images\n",
    "* [\\_image_classification.ipynb](../tutorials/images/_image_classification.ipynb) discusses how to classify cats vs dogs from images.\n",
    "* [hub_with_keras.ipynb](../tutorials/images/hub_with_keras.ipynb) demonstrates how to use TensorFlow Hub with `tf.keras`, do image classification using TensorFlow Hub, and do simple transfer learning.\n",
    "* [transfer_learning.ipynb](../tutorials/images/transfer_learning.ipynb) discusses how to classify cats vs dogs images by using transfer learning from a pre-trained network.\n",
    "\n",
    "### Keras\n",
    "[Keras](https://www.tensorflow.org/guide/keras) is a high-level API to build and train deep learning models.\n",
    "* [basic_classification.ipynb](../tutorials/keras/basic_classification.ipynb) trains a neural network model to classify images of clothing.\n",
    "* [basic_regression.ipynb](../tutorials/keras/basic_regression.ipynb) uses the classic [Auto MPG](https://archive.ics.uci.edu/ml/datasets/auto+mpg) and builds a model to predict the fuel efficiency of late-1970s and early 1980s automobiles.\n",
    "* [basic_text_classification.ipynb](../tutorials/keras/basic_text_classification.ipynb) classifies movie reviews as *positive* or *negative* using the text of the review.\n",
    "* [overfit_and_underfit.ipynb](../tutorials/keras/overfit_and_underfit.ipynb) explores two common regularization techniques—weight regularization and dropout—and use them to improve on the IMDB movie review classification notebook.\n",
    "* [save_and_restore_models.ipynb](../tutorials/keras/save_and_restore_models.ipynb) shows how to save and restore TensorFlow models.\n",
    "\n",
    "### Loading Data\n",
    "* [images.ipynb](../tutorials/load_data/images.ipynb) provides a simple example of how to load an image dataset using `tf.data`.\n",
    "* [tf_records.ipynb](../tutorials/load_data/tf_records.ipynb) demonstrate how to create, parse, and use the `tf.Example` message, and then serialize, write, and read `tf.Example` messages to and from `.tfrecord` files.\n",
    "\n",
    "### Sequences\n",
    "* [text_generation.ipynb](../tutorials/sequences/text_generation.ipynb) demonstrates how to generate text using a character-based RNN.\n",
    "\n",
    "### Unicode\n",
    "* [unicode.ipynb](../tutorials/representation/unicode.ipynb) shows how to represent Unicode strings in TensorFlow and manipulate them using Unicode equivalents of standard string ops.\n"
   ]
  },
  {
   "cell_type": "markdown",
   "metadata": {},
   "source": [
    "## Machine Learning Deep Dive\n",
    "Two end-to-end courses are provided with multiple notebooks:\n",
    "* `03_tensorflow` teaches how to construct and train a model in TensorFlow, and then deploy it to the Cloud Machine Learning Engine.\n",
    "* `06_structured` walks through the process of building a complete machine learning pipeline covering ingest, exploration, training, evaluation, deployment, and prediction."
   ]
  },
  {
   "cell_type": "markdown",
   "metadata": {},
   "source": [
    "## TPUs\n",
    "\n",
    "[TPUs](https://cloud.google.com/tpu/) empower businesses everywhere to speed up their machine learning workloads on Google Cloud.\n",
    "\n",
    "* [01_MNIST_TPU_Keras.ipynb](../tutorials/fast-and-lean-data-science/01_MNIST_TPU_Keras.ipynb)\n",
    "* [07_Keras_Flowers_TPU_solution.ipynb](../tutorials/fast-and-lean-data-science/07_Keras_Flowers_TPU_solution.ipynb)\n",
    "* [07_Keras_Flowers_TPU_squeezenet.ipynb](../tutorials/fast-and-lean-data-science/07_Keras_Flowers_TPU_squeezenet.ipynb)\n",
    "* [08_Taxifare_Keras_FeatureColumns_solution.ipynb](../tutorials/fast-and-lean-data-science/08_Taxifare_Keras_FeatureColumns_solution.ipynb)\n"
   ]
  },
  {
   "cell_type": "code",
   "execution_count": null,
   "metadata": {},
   "outputs": [],
   "source": []
  }
 ],
 "metadata": {
  "kernelspec": {
   "display_name": "Python 3",
   "language": "python",
   "name": "python3"
  },
  "language_info": {
   "codemirror_mode": {
    "name": "ipython",
    "version": 3
   },
   "file_extension": ".py",
   "mimetype": "text/x-python",
   "name": "python",
   "nbconvert_exporter": "python",
   "pygments_lexer": "ipython3",
   "version": "3.5.3"
  }
 },
 "nbformat": 4,
 "nbformat_minor": 2
}
