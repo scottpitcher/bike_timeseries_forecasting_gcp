{
 "cells": [
  {
   "cell_type": "code",
   "execution_count": null,
   "metadata": {
    "colab": {},
    "colab_type": "code",
    "id": "ur8xi4C7S06n"
   },
   "outputs": [],
   "source": [
    "# Copyright 2020 Google LLC\n",
    "#\n",
    "# Licensed under the Apache License, Version 2.0 (the \"License\");\n",
    "# you may not use this file except in compliance with the License.\n",
    "# You may obtain a copy of the License at\n",
    "#\n",
    "#     https://www.apache.org/licenses/LICENSE-2.0\n",
    "#\n",
    "# Unless required by applicable law or agreed to in writing, software\n",
    "# distributed under the License is distributed on an \"AS IS\" BASIS,\n",
    "# WITHOUT WARRANTIES OR CONDITIONS OF ANY KIND, either express or implied.\n",
    "# See the License for the specific language governing permissions and\n",
    "# limitations under the License."
   ]
  },
  {
   "cell_type": "markdown",
   "metadata": {
    "colab_type": "text",
    "id": "tvgnzT1CKxrO"
   },
   "source": [
    "# Overview\n",
    "\n",
    "This tutorial shows how to train a Keras model on tabular data and get feature attributions on your trained model.\n",
    "\n",
    "### Dataset\n",
    "\n",
    "The dataset used for this tutorial was created by combining two BigQuery Public Datasets: [London Bikeshare data](https://console.cloud.google.com/marketplace/details/greater-london-authority/london-bicycles?filter=solution-type%3Adataset&q=london%20bicycle%20hires&id=95374cac-2834-4fa2-a71f-fc033ccb5ce4) and [NOAA weather data](https://console.cloud.google.com/marketplace/details/noaa-public/gsod?filter=solution-type:dataset&q=noaa&id=c6c1b652-3958-4a47-9e58-552a546df47f). \n",
    "\n",
    "### Objective\n",
    "\n",
    "In this notebook, you will learn how to use AI Explanations with an tabular model you trained. The purpose of this tutorial is to demonstrate how to explain your model locally using the Explainable AI SDK, without having to deploy to AI Platform. The steps performed include: \n",
    "\n",
    "* Train a Keras model.\n",
    "* Get explanations locally in the AI Platform Notebooks environment\n",
    "* \\[Optional\\] Deploy the model to AI Platform.\n",
    "\n",
    "### Costs \n",
    "\n",
    "This tutorial uses billable components of Google Cloud Platform (GCP):\n",
    "\n",
    "* AI Platform Prediction, only if you decide to deploy the model\n",
    "\n",
    "Learn about [Cloud AI Platform\n",
    "pricing](https://cloud.google.com/ml-engine/docs/pricing), and use the [Pricing\n",
    "Calculator](https://cloud.google.com/products/calculator/)\n",
    "to generate a cost estimate based on your projected usage."
   ]
  },
  {
   "cell_type": "markdown",
   "metadata": {
    "colab_type": "text",
    "id": "Gmp4Uo0Junmg"
   },
   "source": [
    "## Before you begin\n",
    "This notebook is intended to run on [AI Platform Notebooks](https://cloud.google.com/ai-platform-notebooks) since it contains necessary dependencies including (but not limited to) [Explainable AI SDK](https://github.com/GoogleCloudPlatform/explainable_ai_sdk)."
   ]
  },
  {
   "cell_type": "markdown",
   "metadata": {
    "colab_type": "text",
    "id": "XoEqT2Y4DJmf"
   },
   "source": [
    "### Import libraries and define constants"
   ]
  },
  {
   "cell_type": "code",
   "execution_count": 1,
   "metadata": {
    "colab": {},
    "colab_type": "code",
    "id": "pRUOFELefqf1"
   },
   "outputs": [
    {
     "name": "stdout",
     "output_type": "stream",
     "text": [
      "1.15.3-dlenv_tfe\n"
     ]
    }
   ],
   "source": [
    "import tensorflow as tf \n",
    "import pandas as pd\n",
    "import numpy as np \n",
    "import json\n",
    "import time\n",
    "\n",
    "from sklearn.preprocessing import LabelEncoder\n",
    "from sklearn.preprocessing import MinMaxScaler\n",
    "\n",
    "import explainable_ai_sdk\n",
    "from explainable_ai_sdk.metadata.tf.v1 import KerasGraphMetadataBuilder\n",
    "\n",
    "# Should be 1.15.X\n",
    "print(tf.__version__)"
   ]
  },
  {
   "cell_type": "markdown",
   "metadata": {},
   "source": [
    "## Downloading and preprocessing data\n",
    "\n",
    "In this section you'll download the data to train your model from a public GCS bucket. The original data is from the BigQuery datasets linked above. For your convenience, we've joined the London bike and NOAA weather tables, done some preprocessing, and provided a subset of that dataset here."
   ]
  },
  {
   "cell_type": "code",
   "execution_count": 2,
   "metadata": {},
   "outputs": [
    {
     "name": "stdout",
     "output_type": "stream",
     "text": [
      "Copying gs://explanations_sample_data/bike-data.csv...\n",
      "| [1 files][265.3 MiB/265.3 MiB]                                                \n",
      "Operation completed over 1 objects/265.3 MiB.                                    \n"
     ]
    }
   ],
   "source": [
    "# Copy the data to your notebook instance\n",
    "!gsutil cp 'gs://explanations_sample_data/bike-data.csv' ./"
   ]
  },
  {
   "cell_type": "code",
   "execution_count": 3,
   "metadata": {},
   "outputs": [],
   "source": [
    "data = pd.read_csv('bike-data.csv')\n",
    "\n",
    "# Shuffle the data\n",
    "data = data.sample(frac=1, random_state=2)\n",
    "\n",
    "# Drop rows with null values\n",
    "data = data[data['wdsp'] != 999.9]\n",
    "data = data[data['dewp'] != 9999.9]\n",
    "\n",
    "# Rename some columns for readability\n",
    "data=data.rename(columns = {'day_of_week':'weekday'})\n",
    "data=data.rename(columns = {'max':'max_temp'})\n",
    "data=data.rename(columns = {'dewp': 'dew_point'})\n",
    "\n",
    "# Drop columns we won't use to train this model\n",
    "data = data.drop(columns=['start_station_name', 'end_station_name', 'bike_id', 'snow_ice_pellets'])\n",
    "\n",
    "# Convert trip duration from seconds to minutes so it's easier to understand\n",
    "data['duration'] = data['duration'].apply(lambda x:float(x / 60))"
   ]
  },
  {
   "cell_type": "code",
   "execution_count": 4,
   "metadata": {},
   "outputs": [
    {
     "data": {
      "text/html": [
       "<div>\n",
       "<style scoped>\n",
       "    .dataframe tbody tr th:only-of-type {\n",
       "        vertical-align: middle;\n",
       "    }\n",
       "\n",
       "    .dataframe tbody tr th {\n",
       "        vertical-align: top;\n",
       "    }\n",
       "\n",
       "    .dataframe thead th {\n",
       "        text-align: right;\n",
       "    }\n",
       "</style>\n",
       "<table border=\"1\" class=\"dataframe\">\n",
       "  <thead>\n",
       "    <tr style=\"text-align: right;\">\n",
       "      <th></th>\n",
       "      <th>start_hr</th>\n",
       "      <th>weekday</th>\n",
       "      <th>euclidean</th>\n",
       "      <th>temp</th>\n",
       "      <th>dew_point</th>\n",
       "      <th>wdsp</th>\n",
       "      <th>max_temp</th>\n",
       "      <th>fog</th>\n",
       "      <th>prcp</th>\n",
       "      <th>rain_drizzle</th>\n",
       "      <th>duration</th>\n",
       "    </tr>\n",
       "  </thead>\n",
       "  <tbody>\n",
       "    <tr>\n",
       "      <th>1559391</th>\n",
       "      <td>21</td>\n",
       "      <td>4</td>\n",
       "      <td>582.724880</td>\n",
       "      <td>54.7</td>\n",
       "      <td>46.2</td>\n",
       "      <td>0.0</td>\n",
       "      <td>56.3</td>\n",
       "      <td>0</td>\n",
       "      <td>0.00</td>\n",
       "      <td>0</td>\n",
       "      <td>22.0</td>\n",
       "    </tr>\n",
       "    <tr>\n",
       "      <th>1881386</th>\n",
       "      <td>16</td>\n",
       "      <td>2</td>\n",
       "      <td>2358.922742</td>\n",
       "      <td>57.1</td>\n",
       "      <td>48.2</td>\n",
       "      <td>0.0</td>\n",
       "      <td>64.9</td>\n",
       "      <td>0</td>\n",
       "      <td>0.00</td>\n",
       "      <td>0</td>\n",
       "      <td>12.0</td>\n",
       "    </tr>\n",
       "    <tr>\n",
       "      <th>703461</th>\n",
       "      <td>23</td>\n",
       "      <td>1</td>\n",
       "      <td>766.066253</td>\n",
       "      <td>69.2</td>\n",
       "      <td>51.6</td>\n",
       "      <td>0.0</td>\n",
       "      <td>80.4</td>\n",
       "      <td>0</td>\n",
       "      <td>0.00</td>\n",
       "      <td>0</td>\n",
       "      <td>12.0</td>\n",
       "    </tr>\n",
       "    <tr>\n",
       "      <th>1688076</th>\n",
       "      <td>9</td>\n",
       "      <td>5</td>\n",
       "      <td>2271.877229</td>\n",
       "      <td>52.5</td>\n",
       "      <td>45.4</td>\n",
       "      <td>0.0</td>\n",
       "      <td>63.3</td>\n",
       "      <td>0</td>\n",
       "      <td>0.02</td>\n",
       "      <td>0</td>\n",
       "      <td>13.0</td>\n",
       "    </tr>\n",
       "    <tr>\n",
       "      <th>2079007</th>\n",
       "      <td>14</td>\n",
       "      <td>7</td>\n",
       "      <td>2476.718116</td>\n",
       "      <td>50.3</td>\n",
       "      <td>43.5</td>\n",
       "      <td>0.0</td>\n",
       "      <td>56.1</td>\n",
       "      <td>0</td>\n",
       "      <td>0.01</td>\n",
       "      <td>0</td>\n",
       "      <td>28.0</td>\n",
       "    </tr>\n",
       "  </tbody>\n",
       "</table>\n",
       "</div>"
      ],
      "text/plain": [
       "         start_hr  weekday    euclidean  temp  dew_point  wdsp  max_temp  fog  \\\n",
       "1559391        21        4   582.724880  54.7       46.2   0.0      56.3    0   \n",
       "1881386        16        2  2358.922742  57.1       48.2   0.0      64.9    0   \n",
       "703461         23        1   766.066253  69.2       51.6   0.0      80.4    0   \n",
       "1688076         9        5  2271.877229  52.5       45.4   0.0      63.3    0   \n",
       "2079007        14        7  2476.718116  50.3       43.5   0.0      56.1    0   \n",
       "\n",
       "         prcp  rain_drizzle  duration  \n",
       "1559391  0.00             0      22.0  \n",
       "1881386  0.00             0      12.0  \n",
       "703461   0.00             0      12.0  \n",
       "1688076  0.02             0      13.0  \n",
       "2079007  0.01             0      28.0  "
      ]
     },
     "execution_count": 4,
     "metadata": {},
     "output_type": "execute_result"
    }
   ],
   "source": [
    "# Preview the first 5 rows\n",
    "data.head()"
   ]
  },
  {
   "cell_type": "code",
   "execution_count": 5,
   "metadata": {},
   "outputs": [],
   "source": [
    "# Save duration to its own DataFrame and remove it from the original DataFrame\n",
    "labels = data['duration']\n",
    "data = data.drop(columns=['duration'])"
   ]
  },
  {
   "cell_type": "markdown",
   "metadata": {},
   "source": [
    "### Split data into train and test sets\n",
    "\n",
    "We'll split our data into train and test sets using an 80 / 20 train / test split."
   ]
  },
  {
   "cell_type": "code",
   "execution_count": 6,
   "metadata": {},
   "outputs": [
    {
     "name": "stdout",
     "output_type": "stream",
     "text": [
      "Train size: 757363\n",
      "Test size: 189341\n"
     ]
    }
   ],
   "source": [
    "# Use 80/20 train/test split\n",
    "train_size = int(len(data) * .8)\n",
    "print (\"Train size: %d\" % train_size)\n",
    "print (\"Test size: %d\" % (len(data) - train_size))\n",
    "\n",
    "# Split our data into train and test sets\n",
    "train_data = data[:train_size]\n",
    "train_labels = labels[:train_size]\n",
    "\n",
    "test_data = data[train_size:]\n",
    "test_labels = labels[train_size:]"
   ]
  },
  {
   "cell_type": "markdown",
   "metadata": {
    "colab_type": "text",
    "id": "2il-ph_JzwMc"
   },
   "source": [
    "## Build the Model\n",
    "\n",
    "Build a Keras model with 2 hidden layers."
   ]
  },
  {
   "cell_type": "code",
   "execution_count": null,
   "metadata": {
    "colab": {},
    "colab_type": "code",
    "id": "2wdtSigKunmk"
   },
   "outputs": [],
   "source": [
    "# Build our model\n",
    "model = tf.keras.Sequential(name=\"bike_predict\")\n",
    "model.add(tf.keras.layers.Dense(64, input_dim=len(train_data.iloc[0]), activation='relu'))\n",
    "model.add(tf.keras.layers.Dense(32, activation='relu'))\n",
    "model.add(tf.keras.layers.Dense(1))"
   ]
  },
  {
   "cell_type": "code",
   "execution_count": 8,
   "metadata": {
    "colab": {},
    "colab_type": "code",
    "id": "YNgwKs2Runmm",
    "outputId": "f6c47142-d4c9-4d6e-ed76-7332131501a8"
   },
   "outputs": [
    {
     "name": "stdout",
     "output_type": "stream",
     "text": [
      "Model: \"bike_predict\"\n",
      "_________________________________________________________________\n",
      "Layer (type)                 Output Shape              Param #   \n",
      "=================================================================\n",
      "dense (Dense)                (None, 64)                704       \n",
      "_________________________________________________________________\n",
      "dense_1 (Dense)              (None, 32)                2080      \n",
      "_________________________________________________________________\n",
      "dense_2 (Dense)              (None, 1)                 33        \n",
      "=================================================================\n",
      "Total params: 2,817\n",
      "Trainable params: 2,817\n",
      "Non-trainable params: 0\n",
      "_________________________________________________________________\n"
     ]
    }
   ],
   "source": [
    "# Compile the model and see a summary\n",
    "optimizer = tf.keras.optimizers.Adam(0.001)\n",
    "model.compile(loss='mean_squared_logarithmic_error', optimizer=optimizer)\n",
    "model.summary()"
   ]
  },
  {
   "cell_type": "markdown",
   "metadata": {},
   "source": [
    "### Create an input data pipeline with tf.data"
   ]
  },
  {
   "cell_type": "code",
   "execution_count": 9,
   "metadata": {},
   "outputs": [],
   "source": [
    "batch_size = 256\n",
    "epochs = 3\n",
    "\n",
    "input_train = tf.data.Dataset.from_tensor_slices(train_data)\n",
    "output_train = tf.data.Dataset.from_tensor_slices(train_labels)\n",
    "input_train = input_train.batch(batch_size).repeat()\n",
    "output_train = output_train.batch(batch_size).repeat()\n",
    "train_dataset = tf.data.Dataset.zip((input_train, output_train))"
   ]
  },
  {
   "cell_type": "markdown",
   "metadata": {},
   "source": [
    "### Train the model"
   ]
  },
  {
   "cell_type": "code",
   "execution_count": 10,
   "metadata": {},
   "outputs": [
    {
     "name": "stdout",
     "output_type": "stream",
     "text": [
      "WARNING:tensorflow:Expected a shuffled dataset but input dataset `x` is not shuffled. Please invoke `shuffle()` on input dataset.\n",
      "WARNING:tensorflow:From /opt/conda/lib/python3.7/site-packages/tensorflow_core/python/ops/math_grad.py:1424: where (from tensorflow.python.ops.array_ops) is deprecated and will be removed in a future version.\n",
      "Instructions for updating:\n",
      "Use tf.where in 2.0, which has the same broadcast rule as np.where\n",
      "Train on 2958 steps\n",
      "Epoch 1/3\n",
      "2958/2958 [==============================] - 17s 6ms/step - loss: 1.3011\n",
      "Epoch 2/3\n",
      "2958/2958 [==============================] - 16s 5ms/step - loss: 0.6141\n",
      "Epoch 3/3\n",
      "2958/2958 [==============================] - 16s 5ms/step - loss: 0.4411\n"
     ]
    },
    {
     "data": {
      "text/plain": [
       "<tensorflow.python.keras.callbacks.History at 0x7f56c11a3550>"
      ]
     },
     "execution_count": 10,
     "metadata": {},
     "output_type": "execute_result"
    }
   ],
   "source": [
    "# This will take about a minute to run\n",
    "# To keep training time short, we're not using the full dataset\n",
    "model.fit(train_dataset, steps_per_epoch=train_size // batch_size, epochs=epochs)"
   ]
  },
  {
   "cell_type": "code",
   "execution_count": 11,
   "metadata": {},
   "outputs": [
    {
     "name": "stdout",
     "output_type": "stream",
     "text": [
      "189341/189341 [==============================] - 11s 56us/sample - loss: 0.3538\n",
      "0.3537751135294457\n"
     ]
    }
   ],
   "source": [
    "# Run evaluation\n",
    "results = model.evaluate(test_data, test_labels)\n",
    "print(results)"
   ]
  },
  {
   "cell_type": "markdown",
   "metadata": {
    "colab_type": "text",
    "id": "VoIu3SJ-unms"
   },
   "source": [
    "## Get Explanations\n",
    "In this section, you will explain the output of the model for input examples. The explanation workflow includes the following steps:\n",
    "\n",
    "* Create an explanation metadata file to specify your model's inputs and outputs.\n",
    "* Save the model with the metadata.\n",
    "* Reload the model through [Explainable AI SDK](https://github.com/GoogleCloudPlatform/explainable_ai_sdk) with explanation parameters.\n",
    "* Call `explain` function with an arbitrary input to get feature attributions.\n",
    "* Use `visualize_attributions` function to visualize the model explanations."
   ]
  },
  {
   "cell_type": "markdown",
   "metadata": {},
   "source": [
    "Use `explainable_ai_sdk` to create an explanation metadata. Since this Keras model accepts a single tensor, you can actually specify what each dimension represent in this tensor via `index_feature_mapping` parameter to get attributions made to these features."
   ]
  },
  {
   "cell_type": "code",
   "execution_count": null,
   "metadata": {},
   "outputs": [],
   "source": [
    "md_builder = KerasGraphMetadataBuilder(model)\n",
    "md_builder.set_numeric_metadata(model.inputs[0], index_feature_mapping=train_data.columns.tolist())"
   ]
  },
  {
   "cell_type": "markdown",
   "metadata": {},
   "source": [
    "Save the model and the metadata into the same folder. `save_model_with_metadata` function prints signature definitions that it saved the model with."
   ]
  },
  {
   "cell_type": "code",
   "execution_count": null,
   "metadata": {},
   "outputs": [],
   "source": [
    "model_dir = 'bike_model'\n",
    "md_builder.save_model_with_metadata(model_dir)"
   ]
  },
  {
   "cell_type": "markdown",
   "metadata": {
    "colab_type": "text",
    "id": "LqX-XK-Junmw"
   },
   "source": [
    "### Reload the Model through Explainable AI SDK\n",
    "While reloading the model, you can specify which explanation technique to use. Non-image models can make use of *Integrated Gradients* and *Sampled Shapley* techniques. For this example, specify Sampled Shapley config. The only parameter it accepts is `path_count`, which specifies the number of paths it uses to approximate feature contributions."
   ]
  },
  {
   "cell_type": "code",
   "execution_count": 14,
   "metadata": {
    "colab": {},
    "colab_type": "code",
    "id": "LWymd3KPhP_S"
   },
   "outputs": [
    {
     "name": "stdout",
     "output_type": "stream",
     "text": [
      "WARNING:tensorflow:From /opt/conda/lib/python3.7/site-packages/explainable_ai_sdk/model/local_model.py:75: load (from tensorflow.python.saved_model.loader_impl) is deprecated and will be removed in a future version.\n",
      "Instructions for updating:\n",
      "This function will only be available through the v1 compatibility library as tf.compat.v1.saved_model.loader.load or tf.compat.v1.saved_model.load. There will be a new function for importing SavedModels in Tensorflow 2.0.\n",
      "INFO:tensorflow:Restoring parameters from bike_model/variables/variables\n"
     ]
    }
   ],
   "source": [
    "lm = explainable_ai_sdk.load_model_from_local_path(\n",
    "    model_dir,  # Model path containing explanation metadata JSON.\n",
    "    explainable_ai_sdk.SampledShapleyConfig(path_count=20)\n",
    ")"
   ]
  },
  {
   "cell_type": "markdown",
   "metadata": {
    "colab_type": "text",
    "id": "pY_zksKlunmy"
   },
   "source": [
    "### Explain an Input\n",
    "Choose an arbitrary example from training set. Note that you can provide a list of examples per `explain` call."
   ]
  },
  {
   "cell_type": "code",
   "execution_count": 18,
   "metadata": {
    "colab": {},
    "colab_type": "code",
    "id": "kcUx6SFhunm3"
   },
   "outputs": [],
   "source": [
    "attributions = lm.explain([{'dense_input:0': test_data.iloc[0].values.tolist()}])"
   ]
  },
  {
   "cell_type": "markdown",
   "metadata": {
    "colab_type": "text",
    "id": "V8LxMBQounm5"
   },
   "source": [
    "### Visualize Attributions\n",
    "Call `visualize_attributions` to see a bar plot depicting how much each feature contributed to the prediction."
   ]
  },
  {
   "cell_type": "code",
   "execution_count": 19,
   "metadata": {
    "colab": {},
    "colab_type": "code",
    "id": "0raUQEBHunm6",
    "outputId": "9c476734-25b2-4dae-866b-ee243cab89e4"
   },
   "outputs": [
    {
     "name": "stdout",
     "output_type": "stream",
     "text": [
      "Label Index 0\n",
      "Example Score: 17.7111\n",
      "Baseline Score: -0.2139\n",
      "Approximation Error: 0.0659\n",
      "Warning: Approximation error exceeds 5%.\n"
     ]
    },
    {
     "data": {
      "image/png": "[encoded data removed]",
      "text/plain": [
       "<Figure size 432x288 with 1 Axes>"
      ]
     },
     "metadata": {
      "needs_background": "light"
     },
     "output_type": "display_data"
    }
   ],
   "source": [
    "# Attributions contain an attribution per given example.\n",
    "attributions[0].visualize_attributions()"
   ]
  },
  {
   "cell_type": "markdown",
   "metadata": {
    "colab_type": "text",
    "id": "g0d8u7FmhUNf"
   },
   "source": [
    "### Explore Different Parameters\n",
    "There are various parameters you can change. `path_count` in Sampled Shapley config, baselines, label indices are some of them. Use `params_override` in the `explain` call to change these parameters. Alternatively, you can create a new model instance with updated parameters.\n",
    "\n",
    "Check out the [github repo](https://github.com/GoogleCloudPlatform/explainable_ai_sdk) for Explainable AI SDK for the API and parameters."
   ]
  },
  {
   "cell_type": "code",
   "execution_count": 20,
   "metadata": {
    "colab": {},
    "colab_type": "code",
    "id": "T0BrRvjJX7Rc",
    "outputId": "aed1a26f-509d-4e79-c588-d592c988ee72"
   },
   "outputs": [
    {
     "name": "stdout",
     "output_type": "stream",
     "text": [
      "Label Index 0\n",
      "Example Score: 17.7111\n",
      "Baseline Score: -0.2139\n",
      "Approximation Error: 0.0171\n"
     ]
    },
    {
     "data": {
      "image/png": "[encoded data removed]",
      "text/plain": [
       "<Figure size 432x288 with 1 Axes>"
      ]
     },
     "metadata": {
      "needs_background": "light"
     },
     "output_type": "display_data"
    }
   ],
   "source": [
    "# Explaining with different path count\n",
    "attributions = lm.explain(\n",
    "    [{'dense_input:0': test_data.iloc[0].values.tolist()}],\n",
    "    params=explainable_ai_sdk.AttributionParameters(\n",
    "        attribution_config=explainable_ai_sdk.SampledShapleyConfig(path_count=50)))\n",
    "\n",
    "# Observe the difference in Approximation Error.\n",
    "attributions[0].visualize_attributions()"
   ]
  },
  {
   "cell_type": "markdown",
   "metadata": {
    "colab_type": "text",
    "id": "3b2TJIXjunm_"
   },
   "source": [
    "# [Optional] Deploy the Model to AI Platform\n",
    "In this optional step, you will deploy the model to AI Platform to have a hosted solution to get model explanations."
   ]
  },
  {
   "cell_type": "code",
   "execution_count": 21,
   "metadata": {
    "colab": {},
    "colab_type": "code",
    "id": "lLgHjnj3unm_"
   },
   "outputs": [],
   "source": [
    "PROJECT_ID = \"your-project-id\"  # Change to your project ID."
   ]
  },
  {
   "cell_type": "markdown",
   "metadata": {
    "colab_type": "text",
    "id": "r1G1N6YSunnD"
   },
   "source": [
    "### Create the Model\n",
    "**You only need to run this once.**"
   ]
  },
  {
   "cell_type": "code",
   "execution_count": null,
   "metadata": {
    "colab": {},
    "colab_type": "code",
    "id": "59zBA3bWunnD",
    "outputId": "7235ac4c-c1e5-4e09-a6b2-f6bd35a0ca24"
   },
   "outputs": [],
   "source": [
    "MODEL = 'bike'\n",
    "! gcloud ai-platform models create $MODEL --enable-logging --regions=us-central1"
   ]
  },
  {
   "cell_type": "markdown",
   "metadata": {
    "colab_type": "text",
    "id": "MMWJfAxXunnG"
   },
   "source": [
    "### Save the Model to GCS\n",
    "You need to save the model to a GCS bucket to deploy to AI Platform.\n",
    "\n"
   ]
  },
  {
   "cell_type": "markdown",
   "metadata": {
    "colab_type": "text",
    "id": "z5KCsrYBhoVv"
   },
   "source": [
    "#### Create a bucket\n",
    "**You need to run this only once.**\n",
    "\n",
    "Note that you can use an existing GCS bucket instead of running this gsutil command, which creates a new one."
   ]
  },
  {
   "cell_type": "code",
   "execution_count": 23,
   "metadata": {
    "colab": {},
    "colab_type": "code",
    "id": "NqW21m8dunnG"
   },
   "outputs": [],
   "source": [
    "BUCKET_NAME = PROJECT_ID + \"_bike_model\"  # Rename to your liking\n",
    "REGION = \"us-central1\""
   ]
  },
  {
   "cell_type": "code",
   "execution_count": null,
   "metadata": {
    "colab": {},
    "colab_type": "code",
    "id": "1S5bdCryunnI"
   },
   "outputs": [],
   "source": [
    "! gsutil mb -l $REGION gs://$BUCKET_NAME"
   ]
  },
  {
   "cell_type": "markdown",
   "metadata": {
    "colab_type": "text",
    "id": "NIpIAU7RunnK"
   },
   "source": [
    "Call `save_model_with_metadata` function to save the model and the metadata to your bucket."
   ]
  },
  {
   "cell_type": "code",
   "execution_count": null,
   "metadata": {
    "colab": {},
    "colab_type": "code",
    "id": "LYebEFjOunnK"
   },
   "outputs": [],
   "source": [
    "model_gcs_path = \"gs://\" + BUCKET_NAME + \"/model\"\n",
    "md_builder.save_model_with_metadata(model_gcs_path)"
   ]
  },
  {
   "cell_type": "markdown",
   "metadata": {
    "colab_type": "text",
    "id": "bEWIWXs9unnM"
   },
   "source": [
    "### Create a Model Version."
   ]
  },
  {
   "cell_type": "code",
   "execution_count": 26,
   "metadata": {
    "colab": {},
    "colab_type": "code",
    "id": "z14LqeZSunnN"
   },
   "outputs": [],
   "source": [
    "# Each time you create a version the name should be unique\n",
    "MODEL_VERSION = 'ss_v1'"
   ]
  },
  {
   "cell_type": "code",
   "execution_count": null,
   "metadata": {
    "colab": {},
    "colab_type": "code",
    "id": "0MC9FJ-AunnO",
    "outputId": "ac580aba-b005-45ed-e20a-546532b1bb60"
   },
   "outputs": [],
   "source": [
    "# Create the version with gcloud\n",
    "!gcloud beta ai-platform versions create $MODEL_VERSION \\\n",
    "--model $MODEL \\\n",
    "--origin $model_gcs_path \\\n",
    "--runtime-version 1.15 \\\n",
    "--framework TENSORFLOW \\\n",
    "--python-version 3.7 \\\n",
    "--machine-type n1-standard-4 \\\n",
    "--explanation-method sampled-shapley \\\n",
    "--num-paths 20"
   ]
  },
  {
   "cell_type": "code",
   "execution_count": null,
   "metadata": {
    "colab": {},
    "colab_type": "code",
    "id": "siHKqjSlunnQ"
   },
   "outputs": [],
   "source": [
    "# Make sure the model deployed correctly. State should be `READY` in the following log\n",
    "! gcloud ai-platform versions describe $MODEL_VERSION --model $MODEL"
   ]
  },
  {
   "cell_type": "markdown",
   "metadata": {
    "colab_type": "text",
    "id": "n_Mdvb4gunnS"
   },
   "source": [
    "**Make sure that the state of the model is `READY` before moving on.**"
   ]
  },
  {
   "cell_type": "markdown",
   "metadata": {
    "colab_type": "text",
    "id": "Yy-kFkAbunnT"
   },
   "source": [
    "## Explain an Input with the Deployed Model\n",
    "Now, call the deployed model using `explainable_ai_sdk` to get attributions for an arbitary input example. First, create a remote model instance through `explainable_ai_sdk` providing project, model, and version parameters. Then, you can call the `explain` function to receive the explanations from the deployed model the same way you would from a local model above.\n",
    "\n",
    "*Note: Deployed models don't support parameter overriding. Hence if you provide `params` in the `explain` call, it won't have any effect in the explanations.*"
   ]
  },
  {
   "cell_type": "code",
   "execution_count": 29,
   "metadata": {
    "colab": {},
    "colab_type": "code",
    "id": "FVah0kMSunnT"
   },
   "outputs": [],
   "source": [
    "# Create the model\n",
    "rm = explainable_ai_sdk.load_model_from_ai_platform(PROJECT_ID, MODEL, MODEL_VERSION)"
   ]
  },
  {
   "cell_type": "code",
   "execution_count": 30,
   "metadata": {
    "colab": {},
    "colab_type": "code",
    "id": "cX7D8j2HunnW"
   },
   "outputs": [],
   "source": [
    "attributions = rm.explain([{'dense_input': test_data.iloc[0].values.tolist()}])"
   ]
  },
  {
   "cell_type": "code",
   "execution_count": 31,
   "metadata": {
    "colab": {},
    "colab_type": "code",
    "id": "0rPvwc10unnY",
    "outputId": "91706c9c-0d88-45d5-8e80-9fcda4989796"
   },
   "outputs": [
    {
     "name": "stdout",
     "output_type": "stream",
     "text": [
      "Label Index 0\n",
      "Example Score: 17.7111\n",
      "Baseline Score: -0.2139\n",
      "Approximation Error: 0.0659\n",
      "Warning: Approximation error exceeds 5%.\n"
     ]
    },
    {
     "data": {
      "image/png": "[encoded data removed]",
      "text/plain": [
       "<Figure size 432x288 with 1 Axes>"
      ]
     },
     "metadata": {
      "needs_background": "light"
     },
     "output_type": "display_data"
    }
   ],
   "source": [
    "# Note the difference in visualization due to different visualization settings.\n",
    "attributions[0].visualize_attributions()"
   ]
  },
  {
   "cell_type": "markdown",
   "metadata": {
    "colab_type": "text",
    "id": "TpV-iwP9qw9c"
   },
   "source": [
    "# Cleaning up\n",
    "\n",
    "*Run these steps only if you deployed a model to AI Platform. Otherwise, feel free to ignore.*\n",
    "\n",
    "To clean up all GCP resources used in this project, you can [delete the GCP\n",
    "project](https://cloud.google.com/resource-manager/docs/creating-managing-projects#shutting_down_projects) you used for the tutorial.\n"
   ]
  },
  {
   "cell_type": "code",
   "execution_count": null,
   "metadata": {
    "colab": {},
    "colab_type": "code",
    "id": "sx_vKniMq9ZX"
   },
   "outputs": [],
   "source": [
    "# Delete model version resource\n",
    "# Note that if there are multiple model versions, you need to delete them\n",
    "# one by one.\n",
    "! gcloud ai-platform versions delete $MODEL_VERSION --quiet --model $MODEL\n",
    "\n",
    "# Delete model resource\n",
    "! gcloud ai-platform models delete $MODEL --quiet\n",
    "\n",
    "# Delete Cloud Storage objects that were created\n",
    "! gsutil -m rm -r gs://$BUCKET_NAME"
   ]
  }
 ],
 "metadata": {
  "colab": {
   "collapsed_sections": [],
   "name": "sdk_tutorial.ipynb",
   "provenance": [],
   "toc_visible": true
  },
  "environment": {
   "name": "tf-gpu.1-15.m55",
   "type": "gcloud",
   "uri": "gcr.io/deeplearning-platform-release/tf-gpu.1-15:m55"
  },
  "kernelspec": {
   "display_name": "Python 3",
   "language": "python",
   "name": "python3"
  },
  "language_info": {
   "codemirror_mode": {
    "name": "ipython",
    "version": 3
   },
   "file_extension": ".py",
   "mimetype": "text/x-python",
   "name": "python",
   "nbconvert_exporter": "python",
   "pygments_lexer": "ipython3",
   "version": "3.7.8"
  }
 },
 "nbformat": 4,
 "nbformat_minor": 4
}
